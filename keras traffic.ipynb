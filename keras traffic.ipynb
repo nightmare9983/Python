{
 "cells": [
  {
   "cell_type": "code",
   "execution_count": 25,
   "metadata": {},
   "outputs": [],
   "source": [
    "import pandas as pd\n",
    "import numpy as np \n",
    "from math import sqrt\n",
    "from matplotlib import pyplot\n",
    "from sklearn.preprocessing import MinMaxScaler\n",
    "from sklearn.preprocessing import LabelEncoder\n",
    "from sklearn.preprocessing import StandardScaler\n",
    "from sklearn.metrics import mean_squared_error\n",
    "from keras.models import Sequential\n",
    "from keras.layers import Dense\n",
    "from keras.layers import LSTM\n",
    "from keras.layers import Activation\n",
    "from keras import losses"
   ]
  },
  {
   "cell_type": "code",
   "execution_count": 57,
   "metadata": {
    "collapsed": true
   },
   "outputs": [],
   "source": [
    "a = pd.read_csv('C:/Users/GC/Desktop/293S339Snor.csv',header=None,low_memory=False)\n",
    "a = a.values"
   ]
  },
  {
   "cell_type": "code",
   "execution_count": 64,
   "metadata": {},
   "outputs": [
    {
     "name": "stdout",
     "output_type": "stream",
     "text": [
      "(5183, 1, 26) (5183, 12) (5759, 1, 26) (5759, 12)\n"
     ]
    }
   ],
   "source": [
    "# split into train and test sets\n",
    "train = a[1:5184, 2:]\n",
    "test = a[5185:10944, 2:]\n",
    "# split into input and outputs\n",
    "train_X, train_y = train[:, :-12], train[:, -12:]\n",
    "test_X, test_y = test[:, :-12], test[:, -12:]\n",
    "# reshape input to be 3D [samples, timesteps, features]\n",
    "train_X = train_X.reshape((train_X.shape[0], 1, train_X.shape[1]))\n",
    "test_X = test_X.reshape((test_X.shape[0], 1, test_X.shape[1]))\n",
    "print(train_X.shape, train_y.shape, test_X.shape, test_y.shape)"
   ]
  },
  {
   "cell_type": "code",
   "execution_count": 54,
   "metadata": {},
   "outputs": [
    {
     "name": "stderr",
     "output_type": "stream",
     "text": [
      "C:\\Users\\GC\\Anaconda3\\lib\\site-packages\\ipykernel_launcher.py:8: UserWarning: The `input_dim` and `input_length` arguments in recurrent layers are deprecated. Use `input_shape` instead.\n",
      "  \n",
      "C:\\Users\\GC\\Anaconda3\\lib\\site-packages\\ipykernel_launcher.py:8: UserWarning: Update your `LSTM` call to the Keras 2 API: `LSTM(activation=\"relu\", return_sequences=True, unit_forget_bias=True, input_shape=(None, 26), units=100, recurrent_activation=\"hard_sigmoid\")`\n",
      "  \n",
      "C:\\Users\\GC\\Anaconda3\\lib\\site-packages\\ipykernel_launcher.py:11: UserWarning: The `input_dim` and `input_length` arguments in recurrent layers are deprecated. Use `input_shape` instead.\n",
      "  # This is added back by InteractiveShellApp.init_path()\n",
      "C:\\Users\\GC\\Anaconda3\\lib\\site-packages\\ipykernel_launcher.py:11: UserWarning: Update your `LSTM` call to the Keras 2 API: `LSTM(activation=\"relu\", return_sequences=True, unit_forget_bias=True, input_shape=(None, 26), units=100, recurrent_activation=\"hard_sigmoid\")`\n",
      "  # This is added back by InteractiveShellApp.init_path()\n",
      "C:\\Users\\GC\\Anaconda3\\lib\\site-packages\\ipykernel_launcher.py:13: UserWarning: The `input_dim` and `input_length` arguments in recurrent layers are deprecated. Use `input_shape` instead.\n",
      "  del sys.path[0]\n",
      "C:\\Users\\GC\\Anaconda3\\lib\\site-packages\\ipykernel_launcher.py:13: UserWarning: Update your `LSTM` call to the Keras 2 API: `LSTM(activation=\"relu\", return_sequences=False, unit_forget_bias=True, input_shape=(None, 26), units=100, recurrent_activation=\"hard_sigmoid\")`\n",
      "  del sys.path[0]\n",
      "C:\\Users\\GC\\Anaconda3\\lib\\site-packages\\ipykernel_launcher.py:14: UserWarning: Update your `Dense` call to the Keras 2 API: `Dense(input_dim=100, activation=\"relu\", units=12)`\n",
      "  \n"
     ]
    }
   ],
   "source": [
    "# design network\n",
    "in_neurons = 26\n",
    "out_neurons = 12\n",
    "hidden_neurons = 100\n",
    "hidden_layers = 3\n",
    "model = Sequential()\n",
    "model.add(LSTM(output_dim=hidden_neurons,input_dim=in_neurons,forget_bias_init='one',activation='relu',\n",
    "               inner_activation='hard_sigmoid',return_sequences=True))\n",
    "for x in range(hidden_layers-2):\n",
    "    model.add(LSTM(output_dim=hidden_neurons,input_dim=in_neurons,forget_bias_init='one',activation='relu',\n",
    "                   inner_activation='hard_sigmoid',return_sequences=True))\n",
    "model.add(LSTM(output_dim=hidden_neurons,input_dim=in_neurons,forget_bias_init='one',activation='relu',\n",
    "               inner_activation='hard_sigmoid',return_sequences=False))\n",
    "model.add(Dense(output_dim=out_neurons,input_dim=hidden_neurons,activation='relu'))\n",
    "model.compile(loss='mae', optimizer='adam')"
   ]
  },
  {
   "cell_type": "code",
   "execution_count": 55,
   "metadata": {},
   "outputs": [
    {
     "name": "stdout",
     "output_type": "stream",
     "text": [
      "_________________________________________________________________\n",
      "Layer (type)                 Output Shape              Param #   \n",
      "=================================================================\n",
      "lstm_22 (LSTM)               (None, None, 100)         50800     \n",
      "_________________________________________________________________\n",
      "lstm_23 (LSTM)               (None, None, 100)         80400     \n",
      "_________________________________________________________________\n",
      "lstm_24 (LSTM)               (None, 100)               80400     \n",
      "_________________________________________________________________\n",
      "dense_8 (Dense)              (None, 12)                1212      \n",
      "=================================================================\n",
      "Total params: 212,812\n",
      "Trainable params: 212,812\n",
      "Non-trainable params: 0\n",
      "_________________________________________________________________\n"
     ]
    }
   ],
   "source": [
    "model.summary()"
   ]
  },
  {
   "cell_type": "code",
   "execution_count": 65,
   "metadata": {},
   "outputs": [
    {
     "name": "stdout",
     "output_type": "stream",
     "text": [
      "Train on 5183 samples, validate on 5759 samples\n",
      "Epoch 1/100\n",
      "1s - loss: 0.0049 - val_loss: 0.0061\n",
      "Epoch 2/100\n",
      "1s - loss: 0.0051 - val_loss: 0.0050\n",
      "Epoch 3/100\n",
      "1s - loss: 0.0048 - val_loss: 0.0057\n",
      "Epoch 4/100\n",
      "1s - loss: 0.0046 - val_loss: 0.0053\n",
      "Epoch 5/100\n",
      "1s - loss: 0.0047 - val_loss: 0.0057\n",
      "Epoch 6/100\n",
      "1s - loss: 0.0047 - val_loss: 0.0056\n",
      "Epoch 7/100\n",
      "1s - loss: 0.0047 - val_loss: 0.0050\n",
      "Epoch 8/100\n",
      "1s - loss: 0.0046 - val_loss: 0.0050\n",
      "Epoch 9/100\n",
      "1s - loss: 0.0046 - val_loss: 0.0056\n",
      "Epoch 10/100\n",
      "1s - loss: 0.0047 - val_loss: 0.0055\n",
      "Epoch 11/100\n",
      "1s - loss: 0.0047 - val_loss: 0.0054\n",
      "Epoch 12/100\n",
      "1s - loss: 0.0047 - val_loss: 0.0052\n",
      "Epoch 13/100\n",
      "1s - loss: 0.0047 - val_loss: 0.0052\n",
      "Epoch 14/100\n",
      "1s - loss: 0.0046 - val_loss: 0.0050\n",
      "Epoch 15/100\n",
      "1s - loss: 0.0046 - val_loss: 0.0051\n",
      "Epoch 16/100\n",
      "1s - loss: 0.0046 - val_loss: 0.0051\n",
      "Epoch 17/100\n",
      "1s - loss: 0.0047 - val_loss: 0.0051\n",
      "Epoch 18/100\n",
      "1s - loss: 0.0046 - val_loss: 0.0053\n",
      "Epoch 19/100\n",
      "1s - loss: 0.0046 - val_loss: 0.0052\n",
      "Epoch 20/100\n",
      "1s - loss: 0.0046 - val_loss: 0.0051\n",
      "Epoch 21/100\n",
      "1s - loss: 0.0046 - val_loss: 0.0051\n",
      "Epoch 22/100\n",
      "1s - loss: 0.0046 - val_loss: 0.0052\n",
      "Epoch 23/100\n",
      "1s - loss: 0.0045 - val_loss: 0.0052\n",
      "Epoch 24/100\n",
      "1s - loss: 0.0045 - val_loss: 0.0054\n",
      "Epoch 25/100\n",
      "1s - loss: 0.0045 - val_loss: 0.0052\n",
      "Epoch 26/100\n",
      "1s - loss: 0.0045 - val_loss: 0.0053\n",
      "Epoch 27/100\n",
      "1s - loss: 0.0046 - val_loss: 0.0052\n",
      "Epoch 28/100\n",
      "1s - loss: 0.0045 - val_loss: 0.0055\n",
      "Epoch 29/100\n",
      "1s - loss: 0.0046 - val_loss: 0.0055\n",
      "Epoch 30/100\n",
      "1s - loss: 0.0046 - val_loss: 0.0054\n",
      "Epoch 31/100\n",
      "1s - loss: 0.0045 - val_loss: 0.0054\n",
      "Epoch 32/100\n",
      "1s - loss: 0.0045 - val_loss: 0.0053\n",
      "Epoch 33/100\n",
      "1s - loss: 0.0046 - val_loss: 0.0053\n",
      "Epoch 34/100\n",
      "1s - loss: 0.0045 - val_loss: 0.0055\n",
      "Epoch 35/100\n",
      "1s - loss: 0.0045 - val_loss: 0.0053\n",
      "Epoch 36/100\n",
      "1s - loss: 0.0046 - val_loss: 0.0053\n",
      "Epoch 37/100\n",
      "1s - loss: 0.0045 - val_loss: 0.0055\n",
      "Epoch 38/100\n",
      "1s - loss: 0.0046 - val_loss: 0.0053\n",
      "Epoch 39/100\n",
      "1s - loss: 0.0045 - val_loss: 0.0053\n",
      "Epoch 40/100\n",
      "1s - loss: 0.0046 - val_loss: 0.0054\n",
      "Epoch 41/100\n",
      "1s - loss: 0.0045 - val_loss: 0.0052\n",
      "Epoch 42/100\n",
      "1s - loss: 0.0045 - val_loss: 0.0053\n",
      "Epoch 43/100\n",
      "1s - loss: 0.0045 - val_loss: 0.0052\n",
      "Epoch 44/100\n",
      "1s - loss: 0.0045 - val_loss: 0.0052\n",
      "Epoch 45/100\n",
      "1s - loss: 0.0044 - val_loss: 0.0054\n",
      "Epoch 46/100\n",
      "1s - loss: 0.0045 - val_loss: 0.0052\n",
      "Epoch 47/100\n",
      "1s - loss: 0.0045 - val_loss: 0.0053\n",
      "Epoch 48/100\n",
      "1s - loss: 0.0045 - val_loss: 0.0052\n",
      "Epoch 49/100\n",
      "1s - loss: 0.0044 - val_loss: 0.0052\n",
      "Epoch 50/100\n",
      "1s - loss: 0.0044 - val_loss: 0.0052\n",
      "Epoch 51/100\n",
      "1s - loss: 0.0045 - val_loss: 0.0051\n",
      "Epoch 52/100\n",
      "1s - loss: 0.0044 - val_loss: 0.0052\n",
      "Epoch 53/100\n",
      "1s - loss: 0.0044 - val_loss: 0.0053\n",
      "Epoch 54/100\n",
      "1s - loss: 0.0045 - val_loss: 0.0052\n",
      "Epoch 55/100\n",
      "1s - loss: 0.0044 - val_loss: 0.0052\n",
      "Epoch 56/100\n",
      "1s - loss: 0.0044 - val_loss: 0.0052\n",
      "Epoch 57/100\n",
      "1s - loss: 0.0044 - val_loss: 0.0052\n",
      "Epoch 58/100\n",
      "1s - loss: 0.0044 - val_loss: 0.0053\n",
      "Epoch 59/100\n",
      "1s - loss: 0.0045 - val_loss: 0.0052\n",
      "Epoch 60/100\n",
      "1s - loss: 0.0044 - val_loss: 0.0052\n",
      "Epoch 61/100\n",
      "1s - loss: 0.0044 - val_loss: 0.0053\n",
      "Epoch 62/100\n",
      "1s - loss: 0.0044 - val_loss: 0.0052\n",
      "Epoch 63/100\n",
      "1s - loss: 0.0044 - val_loss: 0.0052\n",
      "Epoch 64/100\n",
      "1s - loss: 0.0044 - val_loss: 0.0053\n",
      "Epoch 65/100\n",
      "1s - loss: 0.0045 - val_loss: 0.0052\n",
      "Epoch 66/100\n",
      "1s - loss: 0.0044 - val_loss: 0.0052\n",
      "Epoch 67/100\n",
      "1s - loss: 0.0043 - val_loss: 0.0052\n",
      "Epoch 68/100\n",
      "1s - loss: 0.0044 - val_loss: 0.0053\n",
      "Epoch 69/100\n",
      "1s - loss: 0.0044 - val_loss: 0.0052\n",
      "Epoch 70/100\n",
      "1s - loss: 0.0044 - val_loss: 0.0053\n",
      "Epoch 71/100\n",
      "1s - loss: 0.0043 - val_loss: 0.0053\n",
      "Epoch 72/100\n",
      "1s - loss: 0.0043 - val_loss: 0.0055\n",
      "Epoch 73/100\n",
      "1s - loss: 0.0044 - val_loss: 0.0053\n",
      "Epoch 74/100\n",
      "1s - loss: 0.0044 - val_loss: 0.0051\n",
      "Epoch 75/100\n",
      "1s - loss: 0.0043 - val_loss: 0.0053\n",
      "Epoch 76/100\n",
      "1s - loss: 0.0043 - val_loss: 0.0052\n",
      "Epoch 77/100\n",
      "1s - loss: 0.0044 - val_loss: 0.0051\n",
      "Epoch 78/100\n",
      "1s - loss: 0.0043 - val_loss: 0.0053\n",
      "Epoch 79/100\n",
      "1s - loss: 0.0045 - val_loss: 0.0053\n",
      "Epoch 80/100\n",
      "1s - loss: 0.0044 - val_loss: 0.0052\n",
      "Epoch 81/100\n",
      "1s - loss: 0.0043 - val_loss: 0.0054\n",
      "Epoch 82/100\n",
      "1s - loss: 0.0043 - val_loss: 0.0053\n",
      "Epoch 83/100\n",
      "1s - loss: 0.0043 - val_loss: 0.0052\n",
      "Epoch 84/100\n",
      "1s - loss: 0.0043 - val_loss: 0.0053\n",
      "Epoch 85/100\n",
      "1s - loss: 0.0043 - val_loss: 0.0052\n",
      "Epoch 86/100\n",
      "1s - loss: 0.0043 - val_loss: 0.0054\n",
      "Epoch 87/100\n",
      "1s - loss: 0.0043 - val_loss: 0.0053\n",
      "Epoch 88/100\n",
      "1s - loss: 0.0042 - val_loss: 0.0052\n",
      "Epoch 89/100\n",
      "1s - loss: 0.0043 - val_loss: 0.0052\n",
      "Epoch 90/100\n",
      "1s - loss: 0.0043 - val_loss: 0.0053\n",
      "Epoch 91/100\n",
      "1s - loss: 0.0043 - val_loss: 0.0052\n",
      "Epoch 92/100\n",
      "1s - loss: 0.0043 - val_loss: 0.0053\n",
      "Epoch 93/100\n",
      "1s - loss: 0.0043 - val_loss: 0.0052\n",
      "Epoch 94/100\n",
      "1s - loss: 0.0043 - val_loss: 0.0053\n",
      "Epoch 95/100\n",
      "1s - loss: 0.0042 - val_loss: 0.0052\n",
      "Epoch 96/100\n",
      "1s - loss: 0.0042 - val_loss: 0.0053\n",
      "Epoch 97/100\n",
      "1s - loss: 0.0043 - val_loss: 0.0052\n",
      "Epoch 98/100\n",
      "1s - loss: 0.0042 - val_loss: 0.0052\n",
      "Epoch 99/100\n",
      "1s - loss: 0.0043 - val_loss: 0.0053\n",
      "Epoch 100/100\n",
      "1s - loss: 0.0042 - val_loss: 0.0052\n"
     ]
    }
   ],
   "source": [
    "# fit network\n",
    "history = model.fit(train_X, train_y, epochs=100, batch_size=20, validation_data=(test_X, test_y), verbose=2, shuffle=False)"
   ]
  },
  {
   "cell_type": "code",
   "execution_count": 66,
   "metadata": {
    "scrolled": true
   },
   "outputs": [
    {
     "data": {
      "image/png": "[encoded data removed]",
      "text/plain": [
       "<matplotlib.figure.Figure at 0x21ec3e69b00>"
      ]
     },
     "metadata": {},
     "output_type": "display_data"
    }
   ],
   "source": [
    "# plot history\n",
    "pyplot.plot(history.history['loss'], label='train')\n",
    "pyplot.plot(history.history['val_loss'], label='test')\n",
    "pyplot.legend()\n",
    "pyplot.show()"
   ]
  },
  {
   "cell_type": "code",
   "execution_count": 67,
   "metadata": {
    "collapsed": true
   },
   "outputs": [],
   "source": [
    "# make a prediction\n",
    "yhat = model.predict(test_X)\n",
    "test_X = test_X.reshape((test_X.shape[0], test_X.shape[2]))\n",
    "# invert scaling for forecast\n",
    "inv_yhat = yhat*2385+135\n",
    "# invert scaling for actual\n",
    "test_y = test[:, -12:]\n",
    "inv_y = test_y.astype('float32')\n",
    "inv_y = inv_y*2385+135"
   ]
  },
  {
   "cell_type": "code",
   "execution_count": 68,
   "metadata": {},
   "outputs": [
    {
     "name": "stdout",
     "output_type": "stream",
     "text": [
      "{0: 41.64826530516832, 1: 46.97120076357294, 2: 49.80215741122567, 3: 50.212055208697144, 4: 50.098864660133515, 5: 50.14036937064784, 6: 50.278907166518394, 7: 50.39481329493393, 8: 50.406855428788155, 9: 50.61713625267509, 10: 50.73795510158667, 11: 50.87786962115749}\n",
      "{0: 3.7586364895105362, 1: 4.2544655501842499, 2: 4.6523969620466232, 3: 4.8181835561990738, 4: 5.1019981503486633, 5: 5.5953405797481537, 6: 5.6080233305692673, 7: 5.6193795055150986, 8: 5.9524118900299072, 9: 5.6441102176904678, 10: 6.6321983933448792, 11: 6.2757253646850586}\n"
     ]
    }
   ],
   "source": [
    "# calculate RMSE MAPE\n",
    "rmse={}\n",
    "mape={}\n",
    "for i in range(0, 12):\n",
    "    b = 0\n",
    "    c = 0\n",
    "    b = sqrt(mean_squared_error(inv_y[:, i], inv_yhat[:, i]))\n",
    "    c = np.mean(np.abs((inv_y[:,i] - inv_yhat[:,i]) / inv_y[:,i])) * 100\n",
    "    rmse[i] = b\n",
    "    mape[i] = c\n",
    "print(rmse)\n",
    "print(mape)"
   ]
  },
  {
   "cell_type": "code",
   "execution_count": null,
   "metadata": {},
   "outputs": [],
   "source": []
  }
 ],
 "metadata": {
  "kernelspec": {
   "display_name": "Python 3",
   "language": "python",
   "name": "python3"
  },
  "language_info": {
   "codemirror_mode": {
    "name": "ipython",
    "version": 3
   },
   "file_extension": ".py",
   "mimetype": "text/x-python",
   "name": "python",
   "nbconvert_exporter": "python",
   "pygments_lexer": "ipython3",
   "version": "3.6.2"
  }
 },
 "nbformat": 4,
 "nbformat_minor": 2
}
